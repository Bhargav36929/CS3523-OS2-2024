{
 "cells": [
  {
   "cell_type": "code",
   "execution_count": 7,
   "id": "b27f015c",
   "metadata": {},
   "outputs": [
    {
     "name": "stdout",
     "output_type": "stream",
     "text": [
      "Random Matrix:\n",
      "9 2 6 5 5 3 2 9 5 6 8 7 5 1 6 6\n",
      "3 6 6 5 3 10 7 1 2 4 3 10 5 3 9 3\n",
      "10 2 8 5 8 2 9 1 8 7 4 1 9 8 7 4\n",
      "1 7 4 6 3 2 5 2 3 2 1 7 2 8 3 6\n",
      "3 10 3 2 1 1 2 6 1 8 9 3 5 6 5 7\n",
      "7 2 9 6 6 9 10 8 4 1 6 9 7 2 7 1\n",
      "2 7 9 6 2 4 4 6 7 8 8 3 1 2 10 10\n",
      "3 7 2 7 8 2 3 2 8 7 4 4 9 9 1 3\n",
      "8 1 7 6 3 3 5 3 1 4 10 2 2 8 9 6\n",
      "2 1 4 9 2 2 9 5 6 4 2 9 1 4 4 10\n",
      "1 6 6 8 10 8 4 2 7 6 5 8 4 6 6 5\n",
      "6 5 3 1 3 8 3 6 1 3 1 6 5 1 9 9\n",
      "6 6 9 10 3 1 9 2 3 10 8 7 10 3 1 2\n",
      "1 10 2 6 5 8 7 2 7 10 8 9 4 10 1 10\n",
      "2 8 2 8 3 2 5 10 3 4 1 4 1 10 1 4\n",
      "8 1 10 3 7 5 10 4 4 4 8 8 9 5 9 1\n",
      "Matrix saved to inp.txt\n"
     ]
    }
   ],
   "source": [
    "import random\n",
    "\n",
    "def generate_random_matrix(n):\n",
    "    # Initialize the matrix with random values\n",
    "    matrix = [[random.randint(1, 10) for _ in range(n)] for _ in range(n)]\n",
    "    return matrix\n",
    "\n",
    "def display_matrix(matrix):\n",
    "    for row in matrix:\n",
    "        print(\" \".join(map(str, row)))\n",
    "\n",
    "def save_matrix_to_file(matrix, filename):\n",
    "    with open(filename, 'w') as file:\n",
    "        for row in matrix:\n",
    "            file.write(\" \".join(map(str, row)) + '\\n')\n",
    "\n",
    "def main():\n",
    "    # Set the size of the matrix\n",
    "    n = 16  # Change this to the desired size\n",
    "\n",
    "    # Generate a random matrix\n",
    "    random_matrix = generate_random_matrix(n)\n",
    "\n",
    "    # Display the generated matrix\n",
    "    print(\"Random Matrix:\")\n",
    "    display_matrix(random_matrix)\n",
    "\n",
    "    # Save the matrix to inp.txt\n",
    "    save_matrix_to_file(random_matrix, \"inp16.txt\")\n",
    "    print(\"Matrix saved to inp.txt\")\n",
    "\n",
    "if __name__ == \"__main__\":\n",
    "    main()\n"
   ]
  },
  {
   "cell_type": "code",
   "execution_count": null,
   "id": "e189f6d7",
   "metadata": {},
   "outputs": [],
   "source": []
  }
 ],
 "metadata": {
  "kernelspec": {
   "display_name": "Python 3 (ipykernel)",
   "language": "python",
   "name": "python3"
  },
  "language_info": {
   "codemirror_mode": {
    "name": "ipython",
    "version": 3
   },
   "file_extension": ".py",
   "mimetype": "text/x-python",
   "name": "python",
   "nbconvert_exporter": "python",
   "pygments_lexer": "ipython3",
   "version": "3.9.13"
  }
 },
 "nbformat": 4,
 "nbformat_minor": 5
}
